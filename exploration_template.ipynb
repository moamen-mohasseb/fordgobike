{
 "cells": [
  {
   "cell_type": "markdown",
   "metadata": {},
   "source": [
    "# (Ford Go Bike Exploration)\n",
    "## by (Moamen Mohamed Mohasseb)\n",
    "\n",
    "## Preliminary Wrangling\n",
    "\n",
    "> Briefly introduce your dataset here.\n",
    "\n",
    "# import all packages and set plots to be embedded inline\n",
    "import numpy as np\n",
    "import pandas as pd\n",
    "import matplotlib.pyplot as plt\n",
    "import seaborn as sb\n",
    "\n",
    "%matplotlib inline"
   ]
  },
  {
   "cell_type": "markdown",
   "metadata": {},
   "source": [
    "> Load in your dataset and describe its properties through the questions below.\n",
    "Try and motivate your exploration goals through this section."
   ]
  },
  {
   "cell_type": "code",
   "execution_count": null,
   "metadata": {},
   "outputs": [],
   "source": [
    "import numpy as np\n",
    "import pandas as pd\n",
    "import matplotlib.pyplot as plt\n",
    "import seaborn as sb\n",
    "import datetime as dt\n",
    "%matplotlib inline"
   ]
  },
  {
   "cell_type": "markdown",
   "metadata": {},
   "source": [
    "### What is the structure of your dataset?\n",
    "\n",
    "> Number of rows 183412 , Data columns  16 columns.\n",
    "\n",
    "### What is/are the main feature(s) of interest in your dataset?\n",
    "\n",
    "> what is the relation between gender and bike rental? what is the average duration? what is the average age that this bike? \n",
    "\n",
    "### What features in the dataset do you think will help support your investigation into your feature(s) of interest?\n",
    "\n",
    "> Member_gender , user_type  trip duration ,duration_sec ,start_station_name and member_birth_year."
   ]
  },
  {
   "cell_type": "code",
   "execution_count": null,
   "metadata": {},
   "outputs": [],
   "source": [
    "#load data\n",
    "bike_df=pd.read_csv(\"201902-fordgobike-tripdata.csv\")\n",
    "bike_df.head()"
   ]
  },
  {
   "cell_type": "code",
   "execution_count": null,
   "metadata": {},
   "outputs": [],
   "source": [
    "bike_df.info()"
   ]
  },
  {
   "cell_type": "code",
   "execution_count": null,
   "metadata": {},
   "outputs": [],
   "source": [
    "bike_df.describe()"
   ]
  },
  {
   "cell_type": "code",
   "execution_count": null,
   "metadata": {},
   "outputs": [],
   "source": [
    "bike_df.isnull().sum()"
   ]
  },
  {
   "cell_type": "code",
   "execution_count": null,
   "metadata": {
    "scrolled": true
   },
   "outputs": [],
   "source": [
    "bike_df[bike_df.start_station_id.isna()]"
   ]
  },
  {
   "cell_type": "code",
   "execution_count": null,
   "metadata": {
    "scrolled": false
   },
   "outputs": [],
   "source": [
    "bike_df.query(\"start_station_latitude == 37.40 and start_station_id== 'NaN' \")"
   ]
  },
  {
   "cell_type": "code",
   "execution_count": null,
   "metadata": {
    "scrolled": true
   },
   "outputs": [],
   "source": [
    "bike_df['member_gender'].value_counts()"
   ]
  },
  {
   "cell_type": "code",
   "execution_count": null,
   "metadata": {
    "scrolled": false
   },
   "outputs": [],
   "source": [
    "(bike_df[bike_df['member_birth_year']<1940])"
   ]
  },
  {
   "cell_type": "code",
   "execution_count": null,
   "metadata": {},
   "outputs": [],
   "source": []
  },
  {
   "cell_type": "markdown",
   "metadata": {},
   "source": [
    "## Data wrangling"
   ]
  },
  {
   "cell_type": "code",
   "execution_count": null,
   "metadata": {},
   "outputs": [],
   "source": [
    "bike_df_copy=bike_df.copy()"
   ]
  },
  {
   "cell_type": "code",
   "execution_count": null,
   "metadata": {},
   "outputs": [],
   "source": [
    "#drop all null value\n",
    "\n",
    "bike_df_copy.dropna(inplace=True)"
   ]
  },
  {
   "cell_type": "code",
   "execution_count": null,
   "metadata": {},
   "outputs": [],
   "source": [
    "#change data type  of  start_time & end_time to date time\n",
    "bike_df_copy['start_time']=pd.to_datetime(bike_df_copy['start_time'])\n",
    "bike_df_copy['end_time']=pd.to_datetime(bike_df_copy['end_time'])"
   ]
  },
  {
   "cell_type": "code",
   "execution_count": null,
   "metadata": {},
   "outputs": [],
   "source": [
    "#change data type  of end_station_id , start_station_id , member_birth_year\n",
    "bike_df_copy['member_birth_year']=bike_df_copy['member_birth_year'].apply(int)\n",
    "bike_df_copy['start_station_id']=bike_df_copy['start_station_id'].apply(int)\n",
    "bike_df_copy['end_station_id']=bike_df_copy['end_station_id'].apply(int)"
   ]
  },
  {
   "cell_type": "code",
   "execution_count": null,
   "metadata": {},
   "outputs": [],
   "source": [
    "bike_df_copy.info()"
   ]
  },
  {
   "cell_type": "code",
   "execution_count": null,
   "metadata": {
    "scrolled": true
   },
   "outputs": [],
   "source": [
    "#isolate day and month  of  start_time & end_time \n",
    "bike_df_copy['day']=bike_df_copy.start_time.dt.strftime('%a')\n",
    "bike_df_copy['start_hour']  = bike_df_copy.start_time.dt.hour\n",
    "bike_df_copy['age']  =2020-bike_df_copy.member_birth_year\n",
    "bike_df_copy.sample(5)"
   ]
  },
  {
   "cell_type": "code",
   "execution_count": null,
   "metadata": {
    "scrolled": true
   },
   "outputs": [],
   "source": [
    "bike_df_copy.describe()"
   ]
  },
  {
   "cell_type": "markdown",
   "metadata": {},
   "source": [
    "## Univariate Exploration\n",
    "\n",
    "> In this section, investigate distributions of individual variables. If\n",
    "you see unusual points or outliers, take a deeper look to clean things up\n",
    "and prepare yourself to look at relationships between variables."
   ]
  },
  {
   "cell_type": "code",
   "execution_count": null,
   "metadata": {},
   "outputs": [],
   "source": [
    "# plot relation between member gender and number of rides\n",
    "member_gender=bike_df_copy['member_gender'].value_counts()\n",
    "plt.pie(member_gender.values,labels=member_gender.index,counterclock=False,autopct='%.0f%%',textprops={'size': 'larger'},\n",
    "                                          shadow=True, radius=1.5);"
   ]
  },
  {
   "cell_type": "markdown",
   "metadata": {},
   "source": [
    "> As we can see men is the majorty of users with 75% of rides numbers and womens only 23%"
   ]
  },
  {
   "cell_type": "code",
   "execution_count": null,
   "metadata": {
    "scrolled": false
   },
   "outputs": [],
   "source": [
    "# plot member ages and set limit between 20 and 80 years as below and above this value consider outliers or typo errors\n",
    "bin_size=np.arange(0,bike_df_copy.age.max()+1,1)\n",
    "plt.figure(figsize=[8,5])\n",
    "plt.hist(data=bike_df_copy,x='age',bins=bin_size)\n",
    "plt.xlabel(\"Member age\")\n",
    "plt.ylabel(\"Number of Rides\")\n",
    "plt.xlim([20,80])\n",
    "plt.show()"
   ]
  },
  {
   "cell_type": "markdown",
   "metadata": {},
   "source": [
    "> The plot of member ages is right-skewed its normal so we  set limit between 20 and 80 years old as below and above this value consider outliers or typo errors as   some members has 140,120,100 years old."
   ]
  },
  {
   "cell_type": "code",
   "execution_count": null,
   "metadata": {},
   "outputs": [],
   "source": [
    "#the relation between day and Number of rides , between month and Number of ride\n",
    "day_order=['Sun','Mon','Tue','Wed','Thu','Fri','Sat']\n",
    "#month_order=['',]\n",
    "fig, ax=plt.subplots(nrows=2,figsize=[8,8])\n",
    "default_color=sb.color_palette()[5]\n",
    "sb.countplot(data=bike_df_copy,x='day',color=default_color,ax=ax[0],order=day_order)\n",
    "sb.countplot(data=bike_df_copy,x='start_hour',color=default_color,ax=ax[1])"
   ]
  },
  {
   "cell_type": "markdown",
   "metadata": {},
   "source": [
    "> * As we can see Number of rides in week ends is less than other work days\n",
    "> * It seems that many users use bikes to go and return back from work as we notice increase in rides number from 7 to 9 Am\n",
    "when users go to work usually and increase also from 4 to 6 PM when they return back to home.\n",
    "> * also increase rides number in work days than week end support this observation."
   ]
  },
  {
   "cell_type": "code",
   "execution_count": null,
   "metadata": {},
   "outputs": [],
   "source": [
    "# plot member ages and set limit between 20 and 80 years as below and above this value consider outliers or typo errors\n",
    "explode=(0,0.1)\n",
    "plt.pie(bike_df_copy.user_type.value_counts().values,labels=bike_df_copy.user_type.value_counts().index,counterclock=False,autopct='%.0f%%',textprops={'size': 'larger'},\n",
    "                                          shadow=True, radius=1,explode=explode);\n",
    "plt.title(\"Relation between Number of rides and User Type\",bbox={'facecolor':'0.8', 'pad':5})\n",
    "plt.show()\n"
   ]
  },
  {
   "cell_type": "markdown",
   "metadata": {},
   "source": [
    "> the majorty of user type is Subscriber as 91% of them and ordinary customer is just 9%"
   ]
  },
  {
   "cell_type": "markdown",
   "metadata": {},
   "source": [
    "### Discuss the distribution(s) of your variable(s) of interest. Were there any unusual points? Did you need to perform any transformations?\n",
    "\n",
    "> * The plot of member ages is right-skewed its normal so we set limit between 20 and 80 years old as below and above this value consider outliers or typo errors as some members has 140,120,100 years old.\n",
    "> * As we can see Number of rides in week ends is less than other work days\n",
    "It seems that many users use bikes to go and return back from work as we notice increase in rides number from 7 to 9 Am when users go to work usually and increase also from 4 to 6 PM when they return back to home.\n",
    "also increase rides number in work days than week end support this observation.\n",
    "> * the majorty of user type is Subscriber as they about 91% of them and ordinary customer is just 9% .\n",
    "\n",
    "### Of the features you investigated, were there any unusual distributions? Did you perform any operations on the data to tidy, adjust, or change the form of the data? If so, why did you do this?\n",
    "\n",
    "> The plot of member ages is right-skewed , we use day and hour from start time column as majorty of trips happen in the same day (so i didnot use end time column).i create new column age as compare ages better than using birth date."
   ]
  },
  {
   "cell_type": "markdown",
   "metadata": {},
   "source": [
    "## Bivariate Exploration\n",
    "\n",
    "> In this section, investigate relationships between pairs of variables in your\n",
    "data. Make sure the variables that you cover here have been introduced in some\n",
    "fashion in the previous section (univariate exploration)."
   ]
  },
  {
   "cell_type": "code",
   "execution_count": null,
   "metadata": {
    "scrolled": true
   },
   "outputs": [],
   "source": [
    "type_order=['Male','Female','Other']\n",
    "plt.figure(figsize=[8,12])\n",
    "plt.subplot(2,1,1)\n",
    "sb.countplot(data=bike_df_copy,x='day',hue='member_gender',palette='Blues',hue_order=type_order)\n",
    "plt.legend(ncol=3)\n",
    "ax=plt.subplot(2,1,2)\n",
    "sb.countplot(data=bike_df_copy,x='start_hour',hue='member_gender',palette='Reds',hue_order=type_order)\n",
    "ax.legend(ncol = 1)"
   ]
  },
  {
   "cell_type": "code",
   "execution_count": null,
   "metadata": {
    "scrolled": false
   },
   "outputs": [],
   "source": [
    "# plot comparison  between customer and subscriber  with user_type \n",
    "g = sb.FacetGrid(data=bike_df_copy, col='user_type', col_wrap=2, height =4 )\n",
    "g.map(sb.countplot, 'member_gender', palette='Blues');\n",
    "g.set_titles('{col_name}');"
   ]
  },
  {
   "cell_type": "markdown",
   "metadata": {},
   "source": [
    "> * #### Males is the majority of subscriber.\n",
    "> * #### Other is the majority of customer. "
   ]
  },
  {
   "cell_type": "code",
   "execution_count": null,
   "metadata": {
    "scrolled": true
   },
   "outputs": [],
   "source": [
    "#relation between age and trip duration for large duration only \n",
    "plt.scatter(data=bike_df_copy,y='duration_sec',x='age')\n",
    "plt.xlim([20,80])\n",
    "plt.ylim([20000,80000])\n",
    "plt.xlabel(\"Members Age\")\n",
    "plt.ylabel(\"Trip duration in second\")\n",
    "plt.title(\"relation between Age and Trip duration\",bbox={'facecolor':'0.8', 'pad':4})"
   ]
  },
  {
   "cell_type": "markdown",
   "metadata": {},
   "source": [
    "> #### Relation between age and trip duration for large duration only as we can see from 20 years old to 50 years old get long Trip duration than old people  which is normal , we cannot compare ages with short trip duration as all ages has no difference #### "
   ]
  },
  {
   "cell_type": "code",
   "execution_count": null,
   "metadata": {},
   "outputs": [],
   "source": [
    "#relation between age and trip duration and days of week\n",
    "sb.barplot(data=bike_df_copy, x='day', y='duration_sec', color=sb.color_palette()[0],order=day_order);\n",
    "plt.xlabel('Day of Week');\n",
    "plt.ylabel('Trip Duration in second');"
   ]
  },
  {
   "cell_type": "markdown",
   "metadata": {},
   "source": [
    ">  #### We observe that weekend has large trip duration than work day###"
   ]
  },
  {
   "cell_type": "markdown",
   "metadata": {},
   "source": [
    "### Talk about some of the relationships you observed in this part of the investigation. How did the feature(s) of interest vary with other features in the dataset?\n",
    "\n",
    "> Your answer here!\n",
    "\n",
    "### Did you observe any interesting relationships between the other features (not the main feature(s) of interest)?\n",
    "\n",
    "> Your answer here!"
   ]
  },
  {
   "cell_type": "markdown",
   "metadata": {},
   "source": [
    "## Multivariate Exploration\n",
    "\n",
    "> Create plots of three or more variables to investigate your data even\n",
    "further. Make sure that your investigations are justified, and follow from\n",
    "your work in the previous sections."
   ]
  },
  {
   "cell_type": "code",
   "execution_count": null,
   "metadata": {},
   "outputs": [],
   "source": []
  },
  {
   "cell_type": "markdown",
   "metadata": {},
   "source": [
    "### Talk about some of the relationships you observed in this part of the investigation. Were there features that strengthened each other in terms of looking at your feature(s) of interest?\n",
    "\n",
    "> Your answer here!\n",
    "\n",
    "### Were there any interesting or surprising interactions between features?\n",
    "\n",
    "> Your answer here!"
   ]
  },
  {
   "cell_type": "markdown",
   "metadata": {},
   "source": [
    "> At the end of your report, make sure that you export the notebook as an\n",
    "html file from the `File > Download as... > HTML` menu. Make sure you keep\n",
    "track of where the exported file goes, so you can put it in the same folder\n",
    "as this notebook for project submission. Also, make sure you remove all of\n",
    "the quote-formatted guide notes like this one before you finish your report!"
   ]
  },
  {
   "cell_type": "code",
   "execution_count": null,
   "metadata": {},
   "outputs": [],
   "source": [
    "bike_df_copy.info()"
   ]
  },
  {
   "cell_type": "code",
   "execution_count": null,
   "metadata": {},
   "outputs": [],
   "source": []
  }
 ],
 "metadata": {
  "kernelspec": {
   "display_name": "Python 3",
   "language": "python",
   "name": "python3"
  },
  "language_info": {
   "codemirror_mode": {
    "name": "ipython",
    "version": 3
   },
   "file_extension": ".py",
   "mimetype": "text/x-python",
   "name": "python",
   "nbconvert_exporter": "python",
   "pygments_lexer": "ipython3",
   "version": "3.8.3"
  }
 },
 "nbformat": 4,
 "nbformat_minor": 2
}
